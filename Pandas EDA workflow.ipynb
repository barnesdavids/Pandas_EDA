{
 "cells": [
  {
   "cell_type": "code",
   "execution_count": 947,
   "id": "9413e1bc",
   "metadata": {},
   "outputs": [],
   "source": [
    "import pandas as pd\n",
    "import pandas_profiling\n",
    "import numpy as np\n",
    "import matplotlib.pyplot as plt\n",
    "import glob\n",
    "%matplotlib inline"
   ]
  },
  {
   "cell_type": "code",
   "execution_count": 948,
   "id": "752a97fd",
   "metadata": {},
   "outputs": [
    {
     "name": "stdout",
     "output_type": "stream",
     "text": [
      "Pandas Version: 1.4.3\n"
     ]
    }
   ],
   "source": [
    "## PANDAS VERSION BEING USED\n",
    "pd.__version__\n",
    "print(f'Pandas Version: {pd.__version__}')"
   ]
  },
  {
   "cell_type": "markdown",
   "id": "bf7d77dc",
   "metadata": {},
   "source": [
    "## This notebook shows steps involved in EDA as well as general Pandas operations "
   ]
  },
  {
   "cell_type": "markdown",
   "id": "74c95d4c",
   "metadata": {},
   "source": [
    "**initial observations**\n",
    "1. data has index column - so re-index\n",
    "2. sub_category and description and type can be dropped\n",
    "3. category turned into categorial dtype"
   ]
  },
  {
   "cell_type": "markdown",
   "id": "01377dd7",
   "metadata": {},
   "source": [
    "### NOTES:\n",
    "\n",
    "1. Load file\n",
    "2. Clean Columns headers - strip spaces/remove and replace\n",
    "3. Inspect Data\n",
    "4. Drop Columns"
   ]
  },
  {
   "cell_type": "markdown",
   "id": "b87449ce",
   "metadata": {},
   "source": [
    "## SECTION A : load data and benchmarking"
   ]
  },
  {
   "cell_type": "markdown",
   "id": "a0adf614",
   "metadata": {},
   "source": [
    "### Step 1 - read file into pandas dataframe"
   ]
  },
  {
   "cell_type": "code",
   "execution_count": 949,
   "id": "386457dd",
   "metadata": {},
   "outputs": [],
   "source": [
    "##%pwd"
   ]
  },
  {
   "cell_type": "code",
   "execution_count": 950,
   "id": "bdec50cc",
   "metadata": {},
   "outputs": [],
   "source": [
    "df = pd.read_csv('BigBasket_Products.csv')"
   ]
  },
  {
   "cell_type": "code",
   "execution_count": 951,
   "id": "2bfef9f6",
   "metadata": {},
   "outputs": [],
   "source": [
    "url = 'https://raw.githubusercontent.com/KeithGalli/Pandas-Data-Science-Tasks/master/SalesAnalysis/Sales_Data/Sales_April_2019.csv'"
   ]
  },
  {
   "cell_type": "code",
   "execution_count": 1076,
   "id": "f275de1e",
   "metadata": {},
   "outputs": [],
   "source": [
    "#df2 = pd.read_csv(url)\n",
    "#df2.columns\n",
    "#df2.shape"
   ]
  },
  {
   "cell_type": "code",
   "execution_count": 1024,
   "id": "ebdc9a25",
   "metadata": {},
   "outputs": [],
   "source": [
    "#cols = df2.columns\n",
    "#print(cols)"
   ]
  },
  {
   "cell_type": "code",
   "execution_count": 961,
   "id": "901f0785",
   "metadata": {},
   "outputs": [],
   "source": [
    "#st1 = (df2.columns.str.replace(' ','_'))\n",
    "#st2 = (df2.drop(['Purchase Address'], axis=1))\n",
    "#st3 = (df2.rename(columns={'Price Each':'Price'}))"
   ]
  },
  {
   "cell_type": "code",
   "execution_count": null,
   "id": "ce219623",
   "metadata": {},
   "outputs": [],
   "source": [
    "## pandas_profiling.ProfileReport(df)"
   ]
  },
  {
   "cell_type": "markdown",
   "id": "b063efa0",
   "metadata": {},
   "source": [
    "### Step 2 - get Total rows and Columns - df.shape"
   ]
  },
  {
   "cell_type": "code",
   "execution_count": 957,
   "id": "3db8d96e",
   "metadata": {},
   "outputs": [
    {
     "name": "stdout",
     "output_type": "stream",
     "text": [
      "columns:27555, rows:10\n"
     ]
    }
   ],
   "source": [
    "df.shape\n",
    "print(f'columns:{df.shape[0]}, rows:{df.shape[1]}')"
   ]
  },
  {
   "cell_type": "code",
   "execution_count": 958,
   "id": "e989c527",
   "metadata": {},
   "outputs": [
    {
     "data": {
      "text/plain": [
       "RangeIndex(start=0, stop=27555, step=1)"
      ]
     },
     "execution_count": 958,
     "metadata": {},
     "output_type": "execute_result"
    }
   ],
   "source": [
    "df.index"
   ]
  },
  {
   "cell_type": "code",
   "execution_count": 959,
   "id": "ceff25b4",
   "metadata": {},
   "outputs": [
    {
     "data": {
      "text/html": [
       "<div>\n",
       "<style scoped>\n",
       "    .dataframe tbody tr th:only-of-type {\n",
       "        vertical-align: middle;\n",
       "    }\n",
       "\n",
       "    .dataframe tbody tr th {\n",
       "        vertical-align: top;\n",
       "    }\n",
       "\n",
       "    .dataframe thead th {\n",
       "        text-align: right;\n",
       "    }\n",
       "</style>\n",
       "<table border=\"1\" class=\"dataframe\">\n",
       "  <thead>\n",
       "    <tr style=\"text-align: right;\">\n",
       "      <th></th>\n",
       "      <th>index</th>\n",
       "      <th>product</th>\n",
       "      <th>category</th>\n",
       "      <th>sub_category</th>\n",
       "      <th>brand</th>\n",
       "      <th>sale_price</th>\n",
       "      <th>market_price</th>\n",
       "      <th>type</th>\n",
       "      <th>rating</th>\n",
       "      <th>description</th>\n",
       "    </tr>\n",
       "  </thead>\n",
       "  <tbody>\n",
       "    <tr>\n",
       "      <th>count</th>\n",
       "      <td>27555.00000</td>\n",
       "      <td>27554</td>\n",
       "      <td>27555</td>\n",
       "      <td>27555</td>\n",
       "      <td>27554</td>\n",
       "      <td>27555.000000</td>\n",
       "      <td>27555.000000</td>\n",
       "      <td>27555</td>\n",
       "      <td>18929.000000</td>\n",
       "      <td>27440</td>\n",
       "    </tr>\n",
       "    <tr>\n",
       "      <th>unique</th>\n",
       "      <td>NaN</td>\n",
       "      <td>23540</td>\n",
       "      <td>11</td>\n",
       "      <td>90</td>\n",
       "      <td>2313</td>\n",
       "      <td>NaN</td>\n",
       "      <td>NaN</td>\n",
       "      <td>426</td>\n",
       "      <td>NaN</td>\n",
       "      <td>21944</td>\n",
       "    </tr>\n",
       "    <tr>\n",
       "      <th>top</th>\n",
       "      <td>NaN</td>\n",
       "      <td>Turmeric Powder/Arisina Pudi</td>\n",
       "      <td>Beauty &amp; Hygiene</td>\n",
       "      <td>Skin Care</td>\n",
       "      <td>Fresho</td>\n",
       "      <td>NaN</td>\n",
       "      <td>NaN</td>\n",
       "      <td>Face Care</td>\n",
       "      <td>NaN</td>\n",
       "      <td>A brand inspired by the Greek goddess of victo...</td>\n",
       "    </tr>\n",
       "    <tr>\n",
       "      <th>freq</th>\n",
       "      <td>NaN</td>\n",
       "      <td>26</td>\n",
       "      <td>7867</td>\n",
       "      <td>2294</td>\n",
       "      <td>638</td>\n",
       "      <td>NaN</td>\n",
       "      <td>NaN</td>\n",
       "      <td>1508</td>\n",
       "      <td>NaN</td>\n",
       "      <td>47</td>\n",
       "    </tr>\n",
       "    <tr>\n",
       "      <th>mean</th>\n",
       "      <td>13778.00000</td>\n",
       "      <td>NaN</td>\n",
       "      <td>NaN</td>\n",
       "      <td>NaN</td>\n",
       "      <td>NaN</td>\n",
       "      <td>322.514808</td>\n",
       "      <td>382.056664</td>\n",
       "      <td>NaN</td>\n",
       "      <td>3.943410</td>\n",
       "      <td>NaN</td>\n",
       "    </tr>\n",
       "    <tr>\n",
       "      <th>std</th>\n",
       "      <td>7954.58767</td>\n",
       "      <td>NaN</td>\n",
       "      <td>NaN</td>\n",
       "      <td>NaN</td>\n",
       "      <td>NaN</td>\n",
       "      <td>486.263116</td>\n",
       "      <td>581.730717</td>\n",
       "      <td>NaN</td>\n",
       "      <td>0.739063</td>\n",
       "      <td>NaN</td>\n",
       "    </tr>\n",
       "    <tr>\n",
       "      <th>min</th>\n",
       "      <td>1.00000</td>\n",
       "      <td>NaN</td>\n",
       "      <td>NaN</td>\n",
       "      <td>NaN</td>\n",
       "      <td>NaN</td>\n",
       "      <td>2.450000</td>\n",
       "      <td>3.000000</td>\n",
       "      <td>NaN</td>\n",
       "      <td>1.000000</td>\n",
       "      <td>NaN</td>\n",
       "    </tr>\n",
       "    <tr>\n",
       "      <th>25%</th>\n",
       "      <td>6889.50000</td>\n",
       "      <td>NaN</td>\n",
       "      <td>NaN</td>\n",
       "      <td>NaN</td>\n",
       "      <td>NaN</td>\n",
       "      <td>95.000000</td>\n",
       "      <td>100.000000</td>\n",
       "      <td>NaN</td>\n",
       "      <td>3.700000</td>\n",
       "      <td>NaN</td>\n",
       "    </tr>\n",
       "    <tr>\n",
       "      <th>50%</th>\n",
       "      <td>13778.00000</td>\n",
       "      <td>NaN</td>\n",
       "      <td>NaN</td>\n",
       "      <td>NaN</td>\n",
       "      <td>NaN</td>\n",
       "      <td>190.000000</td>\n",
       "      <td>220.000000</td>\n",
       "      <td>NaN</td>\n",
       "      <td>4.100000</td>\n",
       "      <td>NaN</td>\n",
       "    </tr>\n",
       "    <tr>\n",
       "      <th>75%</th>\n",
       "      <td>20666.50000</td>\n",
       "      <td>NaN</td>\n",
       "      <td>NaN</td>\n",
       "      <td>NaN</td>\n",
       "      <td>NaN</td>\n",
       "      <td>359.000000</td>\n",
       "      <td>425.000000</td>\n",
       "      <td>NaN</td>\n",
       "      <td>4.300000</td>\n",
       "      <td>NaN</td>\n",
       "    </tr>\n",
       "    <tr>\n",
       "      <th>max</th>\n",
       "      <td>27555.00000</td>\n",
       "      <td>NaN</td>\n",
       "      <td>NaN</td>\n",
       "      <td>NaN</td>\n",
       "      <td>NaN</td>\n",
       "      <td>12500.000000</td>\n",
       "      <td>12500.000000</td>\n",
       "      <td>NaN</td>\n",
       "      <td>5.000000</td>\n",
       "      <td>NaN</td>\n",
       "    </tr>\n",
       "  </tbody>\n",
       "</table>\n",
       "</div>"
      ],
      "text/plain": [
       "              index                       product          category  \\\n",
       "count   27555.00000                         27554             27555   \n",
       "unique          NaN                         23540                11   \n",
       "top             NaN  Turmeric Powder/Arisina Pudi  Beauty & Hygiene   \n",
       "freq            NaN                            26              7867   \n",
       "mean    13778.00000                           NaN               NaN   \n",
       "std      7954.58767                           NaN               NaN   \n",
       "min         1.00000                           NaN               NaN   \n",
       "25%      6889.50000                           NaN               NaN   \n",
       "50%     13778.00000                           NaN               NaN   \n",
       "75%     20666.50000                           NaN               NaN   \n",
       "max     27555.00000                           NaN               NaN   \n",
       "\n",
       "       sub_category   brand    sale_price  market_price       type  \\\n",
       "count         27555   27554  27555.000000  27555.000000      27555   \n",
       "unique           90    2313           NaN           NaN        426   \n",
       "top       Skin Care  Fresho           NaN           NaN  Face Care   \n",
       "freq           2294     638           NaN           NaN       1508   \n",
       "mean            NaN     NaN    322.514808    382.056664        NaN   \n",
       "std             NaN     NaN    486.263116    581.730717        NaN   \n",
       "min             NaN     NaN      2.450000      3.000000        NaN   \n",
       "25%             NaN     NaN     95.000000    100.000000        NaN   \n",
       "50%             NaN     NaN    190.000000    220.000000        NaN   \n",
       "75%             NaN     NaN    359.000000    425.000000        NaN   \n",
       "max             NaN     NaN  12500.000000  12500.000000        NaN   \n",
       "\n",
       "              rating                                        description  \n",
       "count   18929.000000                                              27440  \n",
       "unique           NaN                                              21944  \n",
       "top              NaN  A brand inspired by the Greek goddess of victo...  \n",
       "freq             NaN                                                 47  \n",
       "mean        3.943410                                                NaN  \n",
       "std         0.739063                                                NaN  \n",
       "min         1.000000                                                NaN  \n",
       "25%         3.700000                                                NaN  \n",
       "50%         4.100000                                                NaN  \n",
       "75%         4.300000                                                NaN  \n",
       "max         5.000000                                                NaN  "
      ]
     },
     "execution_count": 959,
     "metadata": {},
     "output_type": "execute_result"
    }
   ],
   "source": [
    "df.describe(include='all')"
   ]
  },
  {
   "cell_type": "markdown",
   "id": "50825ccf",
   "metadata": {},
   "source": [
    "### Step 3 - Initial Benchmarking\n",
    "1. **%%timeit** - how long does it take to run the df <br>\n",
    "2. **(memory_usage='deep')** - what is the total memory used <br>"
   ]
  },
  {
   "cell_type": "code",
   "execution_count": null,
   "id": "d1d38294",
   "metadata": {},
   "outputs": [],
   "source": [
    "#%%timeit\n",
    "df\n",
    "## this is used to see total time to load dataset"
   ]
  },
  {
   "cell_type": "code",
   "execution_count": null,
   "id": "3248928d",
   "metadata": {},
   "outputs": [],
   "source": [
    "## lets get total memory usage - based on initial df\n",
    "df.info(memory_usage='deep')"
   ]
  },
  {
   "cell_type": "code",
   "execution_count": null,
   "id": "9e6cefd8",
   "metadata": {},
   "outputs": [],
   "source": [
    "## returns total memory usage - in kilobytes\n",
    "rnd = (df.memory_usage(deep=True).sum()/1024).round()\n",
    "rnd"
   ]
  },
  {
   "cell_type": "code",
   "execution_count": null,
   "id": "be38cd76",
   "metadata": {},
   "outputs": [],
   "source": [
    "convert_to_kb = (df.memory_usage().sum()/1024).round()\n",
    "convert_to_kb"
   ]
  },
  {
   "cell_type": "code",
   "execution_count": null,
   "id": "7adb48f3",
   "metadata": {},
   "outputs": [],
   "source": [
    "## which columns has high memory usage\n",
    "df.memory_usage(deep=True)"
   ]
  },
  {
   "cell_type": "code",
   "execution_count": null,
   "id": "7a8bd3d2",
   "metadata": {},
   "outputs": [],
   "source": [
    "## used in conjunction with above to see which columns takes up memory\n",
    "df.info(memory_usage='deep')"
   ]
  },
  {
   "cell_type": "code",
   "execution_count": null,
   "id": "167dde7a",
   "metadata": {},
   "outputs": [],
   "source": [
    "## how many null values (Nan) per series/columns\n",
    "df.isnull().sum()"
   ]
  },
  {
   "cell_type": "code",
   "execution_count": null,
   "id": "e353f92f",
   "metadata": {},
   "outputs": [],
   "source": [
    "df.notnull().sum()"
   ]
  },
  {
   "cell_type": "code",
   "execution_count": null,
   "id": "8b854934",
   "metadata": {},
   "outputs": [],
   "source": [
    "df.select_dtypes(include='object').nunique()"
   ]
  },
  {
   "cell_type": "code",
   "execution_count": null,
   "id": "46632779",
   "metadata": {},
   "outputs": [],
   "source": [
    "df['category'].unique().tolist()"
   ]
  },
  {
   "cell_type": "code",
   "execution_count": null,
   "id": "b7107265",
   "metadata": {},
   "outputs": [],
   "source": [
    "df['category'] = df['category'].astype('category')"
   ]
  },
  {
   "cell_type": "code",
   "execution_count": null,
   "id": "c15b770a",
   "metadata": {},
   "outputs": [],
   "source": [
    "new_df.memory_usage(deep=True)"
   ]
  },
  {
   "cell_type": "markdown",
   "id": "c763b82e",
   "metadata": {},
   "source": [
    "### Benchmark Summary"
   ]
  },
  {
   "cell_type": "code",
   "execution_count": null,
   "id": "b1f80a3a",
   "metadata": {},
   "outputs": [],
   "source": [
    "## timeit -  11.4 ns ± 0.0254 ns per loop (mean ± std. dev. of 7 runs, 100,000,000 loops each)\n",
    "## memory -  memory usage: 28.2 MB"
   ]
  },
  {
   "cell_type": "markdown",
   "id": "6f4048f4",
   "metadata": {},
   "source": [
    "## SECTION B : - inspecting the dataset itself"
   ]
  },
  {
   "cell_type": "markdown",
   "id": "d8fe352e",
   "metadata": {},
   "source": [
    "### Showing the df at a glance"
   ]
  },
  {
   "cell_type": "code",
   "execution_count": 976,
   "id": "da58e1a8",
   "metadata": {},
   "outputs": [],
   "source": [
    "#df.describe(include=[np.number]).T"
   ]
  },
  {
   "cell_type": "code",
   "execution_count": null,
   "id": "9614eac1",
   "metadata": {},
   "outputs": [],
   "source": [
    "## see first 5 and last 5 rows\n",
    "df"
   ]
  },
  {
   "cell_type": "code",
   "execution_count": null,
   "id": "4a44adef",
   "metadata": {},
   "outputs": [],
   "source": [
    "## first 5\n",
    "df.head()\n",
    "## see specified number\n",
    "## df.head(n=20)"
   ]
  },
  {
   "cell_type": "code",
   "execution_count": null,
   "id": "5bb204bc",
   "metadata": {},
   "outputs": [],
   "source": [
    "## last 5 rows\n",
    "df.tail()\n",
    "## see specified number\n",
    "## df.tail(n=20)"
   ]
  },
  {
   "cell_type": "code",
   "execution_count": null,
   "id": "da06d769",
   "metadata": {},
   "outputs": [],
   "source": [
    "## random sample of rows and columns\n",
    "df.sample(n=10)"
   ]
  },
  {
   "cell_type": "code",
   "execution_count": null,
   "id": "07d65584",
   "metadata": {},
   "outputs": [],
   "source": [
    "## random sample of columns\n",
    "df.sample(n=5, axis=1)"
   ]
  },
  {
   "cell_type": "code",
   "execution_count": null,
   "id": "882a26a5",
   "metadata": {},
   "outputs": [],
   "source": [
    "## random sample of rows\n",
    "df.sample(n=5, axis=0)"
   ]
  },
  {
   "cell_type": "markdown",
   "id": "7a44a8b1",
   "metadata": {},
   "source": [
    "## Section C - data cleaning"
   ]
  },
  {
   "cell_type": "code",
   "execution_count": null,
   "id": "6f5ea674",
   "metadata": {},
   "outputs": [],
   "source": [
    "##### NOTES......lets look at column headers first\n",
    "## removing white spaces from column-headers\n",
    "## cast to upper/lower string\n",
    "## replace special characters\n",
    "## dropping columns\n",
    "## renaming columns\n",
    "## moving columns into positions\n",
    "## creating  and inserting new column headers"
   ]
  },
  {
   "cell_type": "code",
   "execution_count": null,
   "id": "cfd1180d",
   "metadata": {},
   "outputs": [],
   "source": [
    "df.info(memory_usage='deep')"
   ]
  },
  {
   "cell_type": "code",
   "execution_count": null,
   "id": "18595531",
   "metadata": {},
   "outputs": [],
   "source": [
    "## show columns only - in list format\n",
    "## df.columns\n",
    "##df.columns.tolist()\n",
    "df.columns.values.tolist() ##numpy method more memory effecient"
   ]
  },
  {
   "cell_type": "code",
   "execution_count": null,
   "id": "9e215d37",
   "metadata": {},
   "outputs": [],
   "source": [
    "## df.columns.str.strip().str.upper().tolist()\n",
    "## df.columns.str.strip().str.lower().tolist()"
   ]
  },
  {
   "cell_type": "code",
   "execution_count": null,
   "id": "29b29c86",
   "metadata": {},
   "outputs": [],
   "source": [
    "## replace characters......\n",
    "## df.columns.str.replace ('_','&&').tolist()"
   ]
  },
  {
   "cell_type": "markdown",
   "id": "5b066e9c",
   "metadata": {},
   "source": [
    "## Section D - converting dtypes for optimal performance"
   ]
  },
  {
   "cell_type": "code",
   "execution_count": 984,
   "id": "00eddafc",
   "metadata": {},
   "outputs": [
    {
     "data": {
      "text/html": [
       "<div>\n",
       "<style scoped>\n",
       "    .dataframe tbody tr th:only-of-type {\n",
       "        vertical-align: middle;\n",
       "    }\n",
       "\n",
       "    .dataframe tbody tr th {\n",
       "        vertical-align: top;\n",
       "    }\n",
       "\n",
       "    .dataframe thead th {\n",
       "        text-align: right;\n",
       "    }\n",
       "</style>\n",
       "<table border=\"1\" class=\"dataframe\">\n",
       "  <thead>\n",
       "    <tr style=\"text-align: right;\">\n",
       "      <th></th>\n",
       "      <th>index</th>\n",
       "      <th>product</th>\n",
       "      <th>category</th>\n",
       "      <th>sub_category</th>\n",
       "      <th>brand</th>\n",
       "      <th>sale_price</th>\n",
       "      <th>market_price</th>\n",
       "      <th>type</th>\n",
       "      <th>rating</th>\n",
       "      <th>description</th>\n",
       "    </tr>\n",
       "  </thead>\n",
       "  <tbody>\n",
       "    <tr>\n",
       "      <th>0</th>\n",
       "      <td>1</td>\n",
       "      <td>Garlic Oil - Vegetarian Capsule 500 mg</td>\n",
       "      <td>Beauty &amp; Hygiene</td>\n",
       "      <td>Hair Care</td>\n",
       "      <td>Sri Sri Ayurveda</td>\n",
       "      <td>220.0</td>\n",
       "      <td>220.0</td>\n",
       "      <td>Hair Oil &amp; Serum</td>\n",
       "      <td>4.1</td>\n",
       "      <td>This Product contains Garlic Oil that is known...</td>\n",
       "    </tr>\n",
       "    <tr>\n",
       "      <th>1</th>\n",
       "      <td>2</td>\n",
       "      <td>Water Bottle - Orange</td>\n",
       "      <td>Kitchen, Garden &amp; Pets</td>\n",
       "      <td>Storage &amp; Accessories</td>\n",
       "      <td>Mastercook</td>\n",
       "      <td>180.0</td>\n",
       "      <td>180.0</td>\n",
       "      <td>Water &amp; Fridge Bottles</td>\n",
       "      <td>2.3</td>\n",
       "      <td>Each product is microwave safe (without lid), ...</td>\n",
       "    </tr>\n",
       "    <tr>\n",
       "      <th>2</th>\n",
       "      <td>3</td>\n",
       "      <td>Brass Angle Deep - Plain, No.2</td>\n",
       "      <td>Cleaning &amp; Household</td>\n",
       "      <td>Pooja Needs</td>\n",
       "      <td>Trm</td>\n",
       "      <td>119.0</td>\n",
       "      <td>250.0</td>\n",
       "      <td>Lamp &amp; Lamp Oil</td>\n",
       "      <td>3.4</td>\n",
       "      <td>A perfect gift for all occasions, be it your m...</td>\n",
       "    </tr>\n",
       "  </tbody>\n",
       "</table>\n",
       "</div>"
      ],
      "text/plain": [
       "   index                                 product                category  \\\n",
       "0      1  Garlic Oil - Vegetarian Capsule 500 mg        Beauty & Hygiene   \n",
       "1      2                   Water Bottle - Orange  Kitchen, Garden & Pets   \n",
       "2      3          Brass Angle Deep - Plain, No.2    Cleaning & Household   \n",
       "\n",
       "            sub_category              brand  sale_price  market_price  \\\n",
       "0              Hair Care  Sri Sri Ayurveda        220.0         220.0   \n",
       "1  Storage & Accessories         Mastercook       180.0         180.0   \n",
       "2            Pooja Needs                Trm       119.0         250.0   \n",
       "\n",
       "                     type  rating  \\\n",
       "0        Hair Oil & Serum     4.1   \n",
       "1  Water & Fridge Bottles     2.3   \n",
       "2         Lamp & Lamp Oil     3.4   \n",
       "\n",
       "                                         description  \n",
       "0  This Product contains Garlic Oil that is known...  \n",
       "1  Each product is microwave safe (without lid), ...  \n",
       "2  A perfect gift for all occasions, be it your m...  "
      ]
     },
     "execution_count": 984,
     "metadata": {},
     "output_type": "execute_result"
    }
   ],
   "source": [
    "df.head(n=3)"
   ]
  },
  {
   "cell_type": "code",
   "execution_count": 985,
   "id": "b083e407",
   "metadata": {},
   "outputs": [
    {
     "name": "stdout",
     "output_type": "stream",
     "text": [
      "<class 'pandas.core.frame.DataFrame'>\n",
      "RangeIndex: 27555 entries, 0 to 27554\n",
      "Data columns (total 10 columns):\n",
      " #   Column        Non-Null Count  Dtype  \n",
      "---  ------        --------------  -----  \n",
      " 0   index         27555 non-null  int64  \n",
      " 1   product       27554 non-null  object \n",
      " 2   category      27555 non-null  object \n",
      " 3   sub_category  27555 non-null  object \n",
      " 4   brand         27554 non-null  object \n",
      " 5   sale_price    27555 non-null  float64\n",
      " 6   market_price  27555 non-null  float64\n",
      " 7   type          27555 non-null  object \n",
      " 8   rating        18929 non-null  float64\n",
      " 9   description   27440 non-null  object \n",
      "dtypes: float64(3), int64(1), object(6)\n",
      "memory usage: 28.2 MB\n"
     ]
    }
   ],
   "source": [
    "df.info(memory_usage='deep')"
   ]
  },
  {
   "cell_type": "code",
   "execution_count": null,
   "id": "95074198",
   "metadata": {},
   "outputs": [],
   "source": [
    "newdf = df.convert_dtypes()\n",
    "newdf.info(memory_usage='deep')"
   ]
  },
  {
   "cell_type": "code",
   "execution_count": null,
   "id": "6242fc6a",
   "metadata": {},
   "outputs": [],
   "source": [
    "newdf.memory_usage().sum()/1024"
   ]
  },
  {
   "cell_type": "code",
   "execution_count": 986,
   "id": "fabc3e10",
   "metadata": {},
   "outputs": [
    {
     "data": {
      "text/html": [
       "<div>\n",
       "<style scoped>\n",
       "    .dataframe tbody tr th:only-of-type {\n",
       "        vertical-align: middle;\n",
       "    }\n",
       "\n",
       "    .dataframe tbody tr th {\n",
       "        vertical-align: top;\n",
       "    }\n",
       "\n",
       "    .dataframe thead th {\n",
       "        text-align: right;\n",
       "    }\n",
       "</style>\n",
       "<table border=\"1\" class=\"dataframe\">\n",
       "  <thead>\n",
       "    <tr style=\"text-align: right;\">\n",
       "      <th></th>\n",
       "      <th>product</th>\n",
       "      <th>category</th>\n",
       "      <th>sub_category</th>\n",
       "      <th>brand</th>\n",
       "      <th>type</th>\n",
       "      <th>description</th>\n",
       "    </tr>\n",
       "  </thead>\n",
       "  <tbody>\n",
       "    <tr>\n",
       "      <th>0</th>\n",
       "      <td>Garlic Oil - Vegetarian Capsule 500 mg</td>\n",
       "      <td>Beauty &amp; Hygiene</td>\n",
       "      <td>Hair Care</td>\n",
       "      <td>Sri Sri Ayurveda</td>\n",
       "      <td>Hair Oil &amp; Serum</td>\n",
       "      <td>This Product contains Garlic Oil that is known...</td>\n",
       "    </tr>\n",
       "    <tr>\n",
       "      <th>1</th>\n",
       "      <td>Water Bottle - Orange</td>\n",
       "      <td>Kitchen, Garden &amp; Pets</td>\n",
       "      <td>Storage &amp; Accessories</td>\n",
       "      <td>Mastercook</td>\n",
       "      <td>Water &amp; Fridge Bottles</td>\n",
       "      <td>Each product is microwave safe (without lid), ...</td>\n",
       "    </tr>\n",
       "    <tr>\n",
       "      <th>2</th>\n",
       "      <td>Brass Angle Deep - Plain, No.2</td>\n",
       "      <td>Cleaning &amp; Household</td>\n",
       "      <td>Pooja Needs</td>\n",
       "      <td>Trm</td>\n",
       "      <td>Lamp &amp; Lamp Oil</td>\n",
       "      <td>A perfect gift for all occasions, be it your m...</td>\n",
       "    </tr>\n",
       "    <tr>\n",
       "      <th>3</th>\n",
       "      <td>Cereal Flip Lid Container/Storage Jar - Assort...</td>\n",
       "      <td>Cleaning &amp; Household</td>\n",
       "      <td>Bins &amp; Bathroom Ware</td>\n",
       "      <td>Nakoda</td>\n",
       "      <td>Laundry, Storage Baskets</td>\n",
       "      <td>Multipurpose container with an attractive desi...</td>\n",
       "    </tr>\n",
       "    <tr>\n",
       "      <th>4</th>\n",
       "      <td>Creme Soft Soap - For Hands &amp; Body</td>\n",
       "      <td>Beauty &amp; Hygiene</td>\n",
       "      <td>Bath &amp; Hand Wash</td>\n",
       "      <td>Nivea</td>\n",
       "      <td>Bathing Bars &amp; Soaps</td>\n",
       "      <td>Nivea Creme Soft Soap gives your skin the best...</td>\n",
       "    </tr>\n",
       "  </tbody>\n",
       "</table>\n",
       "</div>"
      ],
      "text/plain": [
       "                                             product                category  \\\n",
       "0             Garlic Oil - Vegetarian Capsule 500 mg        Beauty & Hygiene   \n",
       "1                              Water Bottle - Orange  Kitchen, Garden & Pets   \n",
       "2                     Brass Angle Deep - Plain, No.2    Cleaning & Household   \n",
       "3  Cereal Flip Lid Container/Storage Jar - Assort...    Cleaning & Household   \n",
       "4                 Creme Soft Soap - For Hands & Body        Beauty & Hygiene   \n",
       "\n",
       "            sub_category              brand                      type  \\\n",
       "0              Hair Care  Sri Sri Ayurveda           Hair Oil & Serum   \n",
       "1  Storage & Accessories         Mastercook    Water & Fridge Bottles   \n",
       "2            Pooja Needs                Trm           Lamp & Lamp Oil   \n",
       "3   Bins & Bathroom Ware             Nakoda  Laundry, Storage Baskets   \n",
       "4       Bath & Hand Wash              Nivea      Bathing Bars & Soaps   \n",
       "\n",
       "                                         description  \n",
       "0  This Product contains Garlic Oil that is known...  \n",
       "1  Each product is microwave safe (without lid), ...  \n",
       "2  A perfect gift for all occasions, be it your m...  \n",
       "3  Multipurpose container with an attractive desi...  \n",
       "4  Nivea Creme Soft Soap gives your skin the best...  "
      ]
     },
     "execution_count": 986,
     "metadata": {},
     "output_type": "execute_result"
    }
   ],
   "source": [
    "## selcting columns based on dtypes\n",
    "df.select_dtypes(include='object').head()"
   ]
  },
  {
   "cell_type": "code",
   "execution_count": null,
   "id": "4655c116",
   "metadata": {},
   "outputs": [],
   "source": [
    "##df.select_dtypes(include='Float64').sample(n=15)\n",
    "df.select_dtypes(include='number').sample(n=15)"
   ]
  },
  {
   "cell_type": "code",
   "execution_count": 1080,
   "id": "2ea05522",
   "metadata": {},
   "outputs": [
    {
     "data": {
      "text/html": [
       "<div>\n",
       "<style scoped>\n",
       "    .dataframe tbody tr th:only-of-type {\n",
       "        vertical-align: middle;\n",
       "    }\n",
       "\n",
       "    .dataframe tbody tr th {\n",
       "        vertical-align: top;\n",
       "    }\n",
       "\n",
       "    .dataframe thead th {\n",
       "        text-align: right;\n",
       "    }\n",
       "</style>\n",
       "<table border=\"1\" class=\"dataframe\">\n",
       "  <thead>\n",
       "    <tr style=\"text-align: right;\">\n",
       "      <th></th>\n",
       "      <th>sale_price</th>\n",
       "      <th>market_price</th>\n",
       "      <th>rating</th>\n",
       "    </tr>\n",
       "  </thead>\n",
       "  <tbody>\n",
       "    <tr>\n",
       "      <th>21953</th>\n",
       "      <td>149.5</td>\n",
       "      <td>299.0</td>\n",
       "      <td>NaN</td>\n",
       "    </tr>\n",
       "    <tr>\n",
       "      <th>15683</th>\n",
       "      <td>595.0</td>\n",
       "      <td>595.0</td>\n",
       "      <td>NaN</td>\n",
       "    </tr>\n",
       "    <tr>\n",
       "      <th>18997</th>\n",
       "      <td>400.0</td>\n",
       "      <td>400.0</td>\n",
       "      <td>NaN</td>\n",
       "    </tr>\n",
       "    <tr>\n",
       "      <th>7449</th>\n",
       "      <td>812.0</td>\n",
       "      <td>1450.0</td>\n",
       "      <td>NaN</td>\n",
       "    </tr>\n",
       "    <tr>\n",
       "      <th>19767</th>\n",
       "      <td>245.0</td>\n",
       "      <td>245.0</td>\n",
       "      <td>NaN</td>\n",
       "    </tr>\n",
       "    <tr>\n",
       "      <th>22078</th>\n",
       "      <td>299.0</td>\n",
       "      <td>299.0</td>\n",
       "      <td>NaN</td>\n",
       "    </tr>\n",
       "    <tr>\n",
       "      <th>23552</th>\n",
       "      <td>450.0</td>\n",
       "      <td>600.0</td>\n",
       "      <td>NaN</td>\n",
       "    </tr>\n",
       "    <tr>\n",
       "      <th>7613</th>\n",
       "      <td>206.1</td>\n",
       "      <td>229.0</td>\n",
       "      <td>NaN</td>\n",
       "    </tr>\n",
       "    <tr>\n",
       "      <th>13758</th>\n",
       "      <td>1494.0</td>\n",
       "      <td>1494.0</td>\n",
       "      <td>NaN</td>\n",
       "    </tr>\n",
       "    <tr>\n",
       "      <th>4559</th>\n",
       "      <td>289.0</td>\n",
       "      <td>358.0</td>\n",
       "      <td>NaN</td>\n",
       "    </tr>\n",
       "    <tr>\n",
       "      <th>23854</th>\n",
       "      <td>80.0</td>\n",
       "      <td>80.0</td>\n",
       "      <td>NaN</td>\n",
       "    </tr>\n",
       "    <tr>\n",
       "      <th>19631</th>\n",
       "      <td>266.4</td>\n",
       "      <td>322.0</td>\n",
       "      <td>NaN</td>\n",
       "    </tr>\n",
       "    <tr>\n",
       "      <th>1954</th>\n",
       "      <td>250.0</td>\n",
       "      <td>250.0</td>\n",
       "      <td>NaN</td>\n",
       "    </tr>\n",
       "    <tr>\n",
       "      <th>20027</th>\n",
       "      <td>28.0</td>\n",
       "      <td>35.0</td>\n",
       "      <td>NaN</td>\n",
       "    </tr>\n",
       "    <tr>\n",
       "      <th>23568</th>\n",
       "      <td>399.0</td>\n",
       "      <td>529.0</td>\n",
       "      <td>NaN</td>\n",
       "    </tr>\n",
       "  </tbody>\n",
       "</table>\n",
       "</div>"
      ],
      "text/plain": [
       "       sale_price  market_price  rating\n",
       "21953       149.5         299.0     NaN\n",
       "15683       595.0         595.0     NaN\n",
       "18997       400.0         400.0     NaN\n",
       "7449        812.0        1450.0     NaN\n",
       "19767       245.0         245.0     NaN\n",
       "22078       299.0         299.0     NaN\n",
       "23552       450.0         600.0     NaN\n",
       "7613        206.1         229.0     NaN\n",
       "13758      1494.0        1494.0     NaN\n",
       "4559        289.0         358.0     NaN\n",
       "23854        80.0          80.0     NaN\n",
       "19631       266.4         322.0     NaN\n",
       "1954        250.0         250.0     NaN\n",
       "20027        28.0          35.0     NaN\n",
       "23568       399.0         529.0     NaN"
      ]
     },
     "execution_count": 1080,
     "metadata": {},
     "output_type": "execute_result"
    }
   ],
   "source": [
    "## chaining\n",
    "(df\n",
    " .select_dtypes(include='float')\n",
    " .query('rating.isna()')\n",
    " .sample(n=15)\n",
    " #.head(n=15)\n",
    ")"
   ]
  },
  {
   "cell_type": "code",
   "execution_count": null,
   "id": "a670e1bc",
   "metadata": {},
   "outputs": [],
   "source": [
    "df.select_dtypes(include=['object']).nunique()"
   ]
  },
  {
   "cell_type": "markdown",
   "id": "baf36c39",
   "metadata": {},
   "source": [
    "## Section E - missing values"
   ]
  },
  {
   "cell_type": "code",
   "execution_count": null,
   "id": "a4bb6e8d",
   "metadata": {},
   "outputs": [],
   "source": [
    "## Notes ---- missing values and counts"
   ]
  },
  {
   "cell_type": "code",
   "execution_count": null,
   "id": "61a0e618",
   "metadata": {},
   "outputs": [],
   "source": [
    "## first get all count of rows and columns\n",
    "df.shape\n",
    "print(f'columns:{df.shape[0]},\\nrows:{df.shape[1]}')"
   ]
  },
  {
   "cell_type": "code",
   "execution_count": null,
   "id": "383a88dd",
   "metadata": {},
   "outputs": [],
   "source": [
    "## for all numeric data use: df.describe()\n",
    "## only returns count for numeric type columns - excludes object/string type columns\n",
    "## count means - count of total non-null values\n",
    "df.describe()\n"
   ]
  },
  {
   "cell_type": "code",
   "execution_count": null,
   "id": "92db541c",
   "metadata": {},
   "outputs": [],
   "source": [
    "df.info(memory_usage='deep')"
   ]
  },
  {
   "cell_type": "code",
   "execution_count": null,
   "id": "e65698f2",
   "metadata": {},
   "outputs": [],
   "source": [
    "18929 + 8626"
   ]
  },
  {
   "cell_type": "code",
   "execution_count": 1072,
   "id": "11f43cad",
   "metadata": {},
   "outputs": [
    {
     "data": {
      "text/plain": [
       "index              0\n",
       "product            1\n",
       "category           0\n",
       "sub_category       0\n",
       "brand              1\n",
       "sale_price         0\n",
       "market_price       0\n",
       "type               0\n",
       "rating          8626\n",
       "description      115\n",
       "dtype: int64"
      ]
     },
     "execution_count": 1072,
     "metadata": {},
     "output_type": "execute_result"
    }
   ],
   "source": [
    "df.isnull().sum()"
   ]
  },
  {
   "cell_type": "code",
   "execution_count": 1073,
   "id": "2ceb193d",
   "metadata": {},
   "outputs": [
    {
     "data": {
      "text/plain": [
       "index              0\n",
       "product            1\n",
       "category           0\n",
       "sub_category       0\n",
       "brand              1\n",
       "sale_price         0\n",
       "market_price       0\n",
       "type               0\n",
       "rating          8626\n",
       "description      115\n",
       "dtype: int64"
      ]
     },
     "execution_count": 1073,
     "metadata": {},
     "output_type": "execute_result"
    }
   ],
   "source": [
    "df.isna().sum()"
   ]
  },
  {
   "cell_type": "code",
   "execution_count": 1074,
   "id": "e30d34b2",
   "metadata": {},
   "outputs": [
    {
     "data": {
      "text/plain": [
       "index           27555\n",
       "product         27554\n",
       "category        27555\n",
       "sub_category    27555\n",
       "brand           27554\n",
       "sale_price      27555\n",
       "market_price    27555\n",
       "type            27555\n",
       "rating          18929\n",
       "description     27440\n",
       "dtype: int64"
      ]
     },
     "execution_count": 1074,
     "metadata": {},
     "output_type": "execute_result"
    }
   ],
   "source": [
    "df.notnull().sum()"
   ]
  },
  {
   "cell_type": "code",
   "execution_count": null,
   "id": "b5a8aecb",
   "metadata": {},
   "outputs": [],
   "source": []
  },
  {
   "cell_type": "code",
   "execution_count": null,
   "id": "deed1a66",
   "metadata": {},
   "outputs": [],
   "source": []
  },
  {
   "cell_type": "code",
   "execution_count": null,
   "id": "c74d5f2b",
   "metadata": {},
   "outputs": [],
   "source": []
  }
 ],
 "metadata": {
  "kernelspec": {
   "display_name": "Python 3 (ipykernel)",
   "language": "python",
   "name": "python3"
  },
  "language_info": {
   "codemirror_mode": {
    "name": "ipython",
    "version": 3
   },
   "file_extension": ".py",
   "mimetype": "text/x-python",
   "name": "python",
   "nbconvert_exporter": "python",
   "pygments_lexer": "ipython3",
   "version": "3.10.5"
  }
 },
 "nbformat": 4,
 "nbformat_minor": 5
}
